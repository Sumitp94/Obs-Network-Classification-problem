{
 "cells": [
  {
   "cell_type": "code",
   "execution_count": 1,
   "metadata": {
    "collapsed": true
   },
   "outputs": [],
   "source": [
    "import pandas as pd\n",
    "import numpy as np"
   ]
  },
  {
   "cell_type": "code",
   "execution_count": 2,
   "metadata": {
    "collapsed": true
   },
   "outputs": [],
   "source": [
    "pd.set_option(\"display.max_columns\",None)"
   ]
  },
  {
   "cell_type": "code",
   "execution_count": 4,
   "metadata": {},
   "outputs": [
    {
     "name": "stdout",
     "output_type": "stream",
     "text": [
      "   0         1         2     3         4          5          6         7   \\\n",
      "0   3  0.822038  0.190381  1000  0.004815  19.031487  19.038129  0.809619   \n",
      "1   3  0.923707  0.090383   900  0.000633   9.035834   9.038339  0.909617   \n",
      "2   3  0.905217  0.108670   800  0.000497  10.864208  10.866977  0.891330   \n",
      "3   3  0.912327  0.102633   700  0.000423  10.252196  10.263258  0.897367   \n",
      "4   3  0.859478  0.153514   500  0.000443  15.344782  15.351421  0.846486   \n",
      "\n",
      "           8           9     10     11     12     13         14         15  \\\n",
      "0  822.037500  177.962500  1440  90324  73128  17196  130066560  105304320   \n",
      "1  831.336000   68.664000  1440  81276  73930   7346  117037440  106459200   \n",
      "2  724.173750   75.826250  1440  72228  64379   7849  104008320   92705760   \n",
      "3  638.628775   61.371225  1440  63284  56789   6495   91128960   81776160   \n",
      "4  429.738750   70.261250  1440  45188  38251   6937   65070720   55081440   \n",
      "\n",
      "         16        17        18 19        20             21  \n",
      "0  0.146594  0.780936  0.001838  B  0.023455  'NB-No Block'  \n",
      "1  0.058749  0.886758  0.001751  B  0.000000     'No Block'  \n",
      "2  0.076069  0.869009  0.001767  B  0.000000     'No Block'  \n",
      "3  0.081080  0.866710  0.001959  B  0.000000     'No Block'  \n",
      "4  0.108995  0.850883  0.002242  B  0.000000     'No Block'  \n"
     ]
    }
   ],
   "source": [
    "network_data=pd.read_csv('B:/spyder/OBS_Network_data.csv',header=None,delimiter=\" *, *\",engine='python')\n",
    "print(network_data.head())"
   ]
  },
  {
   "cell_type": "code",
   "execution_count": 5,
   "metadata": {},
   "outputs": [
    {
     "name": "stdout",
     "output_type": "stream",
     "text": [
      "(1075, 22)\n"
     ]
    }
   ],
   "source": [
    "print(network_data.shape)\n"
   ]
  },
  {
   "cell_type": "code",
   "execution_count": 6,
   "metadata": {
    "collapsed": true
   },
   "outputs": [],
   "source": [
    "network_data.columns=[\"Node\",\"Utilised Bandwith Rate\",\"Packet Drop Rate\",\"Full_Bandwidth\",\"Average_Delay_Time_Per_Sec\",\n",
    "\"Percentage_Of_Lost_Pcaket_Rate\",\"Percentage_Of_Lost_Byte_Rate\",\"Packet Received Rate\",\"of Used_Bandwidth\",\n",
    "\"Lost_Bandwidth\",\"Packet Size_Byte\",\"Packet_Transmitted\",\"Packet_Received\",\"Packet_lost\",\"Transmitted_Byte\",\n",
    "\"Received_Byte\",\"10-Run-AVG-Drop-Rate\",\"10-Run-AVG-Bandwith-Use\",\"10-Run-Delay\",\"Node Status\",\"Flood Status\",\"Class\"]"
   ]
  },
  {
   "cell_type": "code",
   "execution_count": 7,
   "metadata": {},
   "outputs": [
    {
     "name": "stdout",
     "output_type": "stream",
     "text": [
      "   Node  Utilised Bandwith Rate  Packet Drop Rate  Full_Bandwidth  \\\n",
      "0     3                0.822038          0.190381            1000   \n",
      "1     3                0.923707          0.090383             900   \n",
      "2     3                0.905217          0.108670             800   \n",
      "3     3                0.912327          0.102633             700   \n",
      "4     3                0.859478          0.153514             500   \n",
      "\n",
      "   Average_Delay_Time_Per_Sec  Percentage_Of_Lost_Pcaket_Rate  \\\n",
      "0                    0.004815                       19.031487   \n",
      "1                    0.000633                        9.035834   \n",
      "2                    0.000497                       10.864208   \n",
      "3                    0.000423                       10.252196   \n",
      "4                    0.000443                       15.344782   \n",
      "\n",
      "   Percentage_Of_Lost_Byte_Rate  Packet Received Rate  of Used_Bandwidth  \\\n",
      "0                     19.038129              0.809619         822.037500   \n",
      "1                      9.038339              0.909617         831.336000   \n",
      "2                     10.866977              0.891330         724.173750   \n",
      "3                     10.263258              0.897367         638.628775   \n",
      "4                     15.351421              0.846486         429.738750   \n",
      "\n",
      "   Lost_Bandwidth  Packet Size_Byte  Packet_Transmitted  Packet_Received  \\\n",
      "0      177.962500              1440               90324            73128   \n",
      "1       68.664000              1440               81276            73930   \n",
      "2       75.826250              1440               72228            64379   \n",
      "3       61.371225              1440               63284            56789   \n",
      "4       70.261250              1440               45188            38251   \n",
      "\n",
      "   Packet_lost  Transmitted_Byte  Received_Byte  10-Run-AVG-Drop-Rate  \\\n",
      "0        17196         130066560      105304320              0.146594   \n",
      "1         7346         117037440      106459200              0.058749   \n",
      "2         7849         104008320       92705760              0.076069   \n",
      "3         6495          91128960       81776160              0.081080   \n",
      "4         6937          65070720       55081440              0.108995   \n",
      "\n",
      "   10-Run-AVG-Bandwith-Use  10-Run-Delay Node Status  Flood Status  \\\n",
      "0                 0.780936      0.001838           B      0.023455   \n",
      "1                 0.886758      0.001751           B      0.000000   \n",
      "2                 0.869009      0.001767           B      0.000000   \n",
      "3                 0.866710      0.001959           B      0.000000   \n",
      "4                 0.850883      0.002242           B      0.000000   \n",
      "\n",
      "           Class  \n",
      "0  'NB-No Block'  \n",
      "1     'No Block'  \n",
      "2     'No Block'  \n",
      "3     'No Block'  \n",
      "4     'No Block'  \n"
     ]
    }
   ],
   "source": [
    "print(network_data.head())\n"
   ]
  },
  {
   "cell_type": "code",
   "execution_count": 8,
   "metadata": {},
   "outputs": [
    {
     "data": {
      "text/plain": [
       "Node                              0\n",
       "Utilised Bandwith Rate            0\n",
       "Packet Drop Rate                  0\n",
       "Full_Bandwidth                    0\n",
       "Average_Delay_Time_Per_Sec        0\n",
       "Percentage_Of_Lost_Pcaket_Rate    0\n",
       "Percentage_Of_Lost_Byte_Rate      0\n",
       "Packet Received Rate              0\n",
       "of Used_Bandwidth                 0\n",
       "Lost_Bandwidth                    0\n",
       "Packet Size_Byte                  0\n",
       "Packet_Transmitted                0\n",
       "Packet_Received                   0\n",
       "Packet_lost                       0\n",
       "Transmitted_Byte                  0\n",
       "Received_Byte                     0\n",
       "10-Run-AVG-Drop-Rate              0\n",
       "10-Run-AVG-Bandwith-Use           0\n",
       "10-Run-Delay                      0\n",
       "Node Status                       0\n",
       "Flood Status                      0\n",
       "Class                             0\n",
       "dtype: int64"
      ]
     },
     "execution_count": 8,
     "metadata": {},
     "output_type": "execute_result"
    }
   ],
   "source": [
    "network_data.isnull().sum()\n"
   ]
  },
  {
   "cell_type": "code",
   "execution_count": 9,
   "metadata": {},
   "outputs": [
    {
     "data": {
      "text/html": [
       "<div>\n",
       "<style>\n",
       "    .dataframe thead tr:only-child th {\n",
       "        text-align: right;\n",
       "    }\n",
       "\n",
       "    .dataframe thead th {\n",
       "        text-align: left;\n",
       "    }\n",
       "\n",
       "    .dataframe tbody tr th {\n",
       "        vertical-align: top;\n",
       "    }\n",
       "</style>\n",
       "<table border=\"1\" class=\"dataframe\">\n",
       "  <thead>\n",
       "    <tr style=\"text-align: right;\">\n",
       "      <th></th>\n",
       "      <th>Node</th>\n",
       "      <th>Utilised Bandwith Rate</th>\n",
       "      <th>Packet Drop Rate</th>\n",
       "      <th>Full_Bandwidth</th>\n",
       "      <th>Average_Delay_Time_Per_Sec</th>\n",
       "      <th>Percentage_Of_Lost_Pcaket_Rate</th>\n",
       "      <th>Percentage_Of_Lost_Byte_Rate</th>\n",
       "      <th>Packet Received Rate</th>\n",
       "      <th>of Used_Bandwidth</th>\n",
       "      <th>Lost_Bandwidth</th>\n",
       "      <th>Packet Size_Byte</th>\n",
       "      <th>Packet_Transmitted</th>\n",
       "      <th>Packet_Received</th>\n",
       "      <th>Packet_lost</th>\n",
       "      <th>Transmitted_Byte</th>\n",
       "      <th>Received_Byte</th>\n",
       "      <th>10-Run-AVG-Drop-Rate</th>\n",
       "      <th>10-Run-AVG-Bandwith-Use</th>\n",
       "      <th>10-Run-Delay</th>\n",
       "      <th>Node Status</th>\n",
       "      <th>Flood Status</th>\n",
       "      <th>Class</th>\n",
       "    </tr>\n",
       "  </thead>\n",
       "  <tbody>\n",
       "    <tr>\n",
       "      <th>0</th>\n",
       "      <td>3</td>\n",
       "      <td>0.822038</td>\n",
       "      <td>0.190381</td>\n",
       "      <td>1000</td>\n",
       "      <td>0.004815</td>\n",
       "      <td>19.031487</td>\n",
       "      <td>19.038129</td>\n",
       "      <td>0.809619</td>\n",
       "      <td>822.037500</td>\n",
       "      <td>177.962500</td>\n",
       "      <td>1440</td>\n",
       "      <td>90324</td>\n",
       "      <td>73128</td>\n",
       "      <td>17196</td>\n",
       "      <td>130066560</td>\n",
       "      <td>105304320</td>\n",
       "      <td>0.146594</td>\n",
       "      <td>0.780936</td>\n",
       "      <td>0.001838</td>\n",
       "      <td>B</td>\n",
       "      <td>0.023455</td>\n",
       "      <td>'NB-No Block'</td>\n",
       "    </tr>\n",
       "    <tr>\n",
       "      <th>1</th>\n",
       "      <td>3</td>\n",
       "      <td>0.923707</td>\n",
       "      <td>0.090383</td>\n",
       "      <td>900</td>\n",
       "      <td>0.000633</td>\n",
       "      <td>9.035834</td>\n",
       "      <td>9.038339</td>\n",
       "      <td>0.909617</td>\n",
       "      <td>831.336000</td>\n",
       "      <td>68.664000</td>\n",
       "      <td>1440</td>\n",
       "      <td>81276</td>\n",
       "      <td>73930</td>\n",
       "      <td>7346</td>\n",
       "      <td>117037440</td>\n",
       "      <td>106459200</td>\n",
       "      <td>0.058749</td>\n",
       "      <td>0.886758</td>\n",
       "      <td>0.001751</td>\n",
       "      <td>B</td>\n",
       "      <td>0.000000</td>\n",
       "      <td>'No Block'</td>\n",
       "    </tr>\n",
       "    <tr>\n",
       "      <th>2</th>\n",
       "      <td>3</td>\n",
       "      <td>0.905217</td>\n",
       "      <td>0.108670</td>\n",
       "      <td>800</td>\n",
       "      <td>0.000497</td>\n",
       "      <td>10.864208</td>\n",
       "      <td>10.866977</td>\n",
       "      <td>0.891330</td>\n",
       "      <td>724.173750</td>\n",
       "      <td>75.826250</td>\n",
       "      <td>1440</td>\n",
       "      <td>72228</td>\n",
       "      <td>64379</td>\n",
       "      <td>7849</td>\n",
       "      <td>104008320</td>\n",
       "      <td>92705760</td>\n",
       "      <td>0.076069</td>\n",
       "      <td>0.869009</td>\n",
       "      <td>0.001767</td>\n",
       "      <td>B</td>\n",
       "      <td>0.000000</td>\n",
       "      <td>'No Block'</td>\n",
       "    </tr>\n",
       "    <tr>\n",
       "      <th>3</th>\n",
       "      <td>3</td>\n",
       "      <td>0.912327</td>\n",
       "      <td>0.102633</td>\n",
       "      <td>700</td>\n",
       "      <td>0.000423</td>\n",
       "      <td>10.252196</td>\n",
       "      <td>10.263258</td>\n",
       "      <td>0.897367</td>\n",
       "      <td>638.628775</td>\n",
       "      <td>61.371225</td>\n",
       "      <td>1440</td>\n",
       "      <td>63284</td>\n",
       "      <td>56789</td>\n",
       "      <td>6495</td>\n",
       "      <td>91128960</td>\n",
       "      <td>81776160</td>\n",
       "      <td>0.081080</td>\n",
       "      <td>0.866710</td>\n",
       "      <td>0.001959</td>\n",
       "      <td>B</td>\n",
       "      <td>0.000000</td>\n",
       "      <td>'No Block'</td>\n",
       "    </tr>\n",
       "    <tr>\n",
       "      <th>4</th>\n",
       "      <td>3</td>\n",
       "      <td>0.859478</td>\n",
       "      <td>0.153514</td>\n",
       "      <td>500</td>\n",
       "      <td>0.000443</td>\n",
       "      <td>15.344782</td>\n",
       "      <td>15.351421</td>\n",
       "      <td>0.846486</td>\n",
       "      <td>429.738750</td>\n",
       "      <td>70.261250</td>\n",
       "      <td>1440</td>\n",
       "      <td>45188</td>\n",
       "      <td>38251</td>\n",
       "      <td>6937</td>\n",
       "      <td>65070720</td>\n",
       "      <td>55081440</td>\n",
       "      <td>0.108995</td>\n",
       "      <td>0.850883</td>\n",
       "      <td>0.002242</td>\n",
       "      <td>B</td>\n",
       "      <td>0.000000</td>\n",
       "      <td>'No Block'</td>\n",
       "    </tr>\n",
       "  </tbody>\n",
       "</table>\n",
       "</div>"
      ],
      "text/plain": [
       "   Node  Utilised Bandwith Rate  Packet Drop Rate  Full_Bandwidth  \\\n",
       "0     3                0.822038          0.190381            1000   \n",
       "1     3                0.923707          0.090383             900   \n",
       "2     3                0.905217          0.108670             800   \n",
       "3     3                0.912327          0.102633             700   \n",
       "4     3                0.859478          0.153514             500   \n",
       "\n",
       "   Average_Delay_Time_Per_Sec  Percentage_Of_Lost_Pcaket_Rate  \\\n",
       "0                    0.004815                       19.031487   \n",
       "1                    0.000633                        9.035834   \n",
       "2                    0.000497                       10.864208   \n",
       "3                    0.000423                       10.252196   \n",
       "4                    0.000443                       15.344782   \n",
       "\n",
       "   Percentage_Of_Lost_Byte_Rate  Packet Received Rate  of Used_Bandwidth  \\\n",
       "0                     19.038129              0.809619         822.037500   \n",
       "1                      9.038339              0.909617         831.336000   \n",
       "2                     10.866977              0.891330         724.173750   \n",
       "3                     10.263258              0.897367         638.628775   \n",
       "4                     15.351421              0.846486         429.738750   \n",
       "\n",
       "   Lost_Bandwidth  Packet Size_Byte  Packet_Transmitted  Packet_Received  \\\n",
       "0      177.962500              1440               90324            73128   \n",
       "1       68.664000              1440               81276            73930   \n",
       "2       75.826250              1440               72228            64379   \n",
       "3       61.371225              1440               63284            56789   \n",
       "4       70.261250              1440               45188            38251   \n",
       "\n",
       "   Packet_lost  Transmitted_Byte  Received_Byte  10-Run-AVG-Drop-Rate  \\\n",
       "0        17196         130066560      105304320              0.146594   \n",
       "1         7346         117037440      106459200              0.058749   \n",
       "2         7849         104008320       92705760              0.076069   \n",
       "3         6495          91128960       81776160              0.081080   \n",
       "4         6937          65070720       55081440              0.108995   \n",
       "\n",
       "   10-Run-AVG-Bandwith-Use  10-Run-Delay Node Status  Flood Status  \\\n",
       "0                 0.780936      0.001838           B      0.023455   \n",
       "1                 0.886758      0.001751           B      0.000000   \n",
       "2                 0.869009      0.001767           B      0.000000   \n",
       "3                 0.866710      0.001959           B      0.000000   \n",
       "4                 0.850883      0.002242           B      0.000000   \n",
       "\n",
       "           Class  \n",
       "0  'NB-No Block'  \n",
       "1     'No Block'  \n",
       "2     'No Block'  \n",
       "3     'No Block'  \n",
       "4     'No Block'  "
      ]
     },
     "execution_count": 9,
     "metadata": {},
     "output_type": "execute_result"
    }
   ],
   "source": [
    "##creat a copy of the data frame\n",
    "network_data_rev=pd.DataFrame.copy(network_data)\n",
    "network_data_rev.head()"
   ]
  },
  {
   "cell_type": "code",
   "execution_count": 10,
   "metadata": {
    "collapsed": true
   },
   "outputs": [],
   "source": [
    "network_data_rev=network_data_rev.drop('Packet Size_Byte',axis=1)\n"
   ]
  },
  {
   "cell_type": "code",
   "execution_count": 11,
   "metadata": {},
   "outputs": [
    {
     "data": {
      "text/plain": [
       "(1075, 21)"
      ]
     },
     "execution_count": 11,
     "metadata": {},
     "output_type": "execute_result"
    }
   ],
   "source": [
    "network_data_rev.shape\n"
   ]
  },
  {
   "cell_type": "code",
   "execution_count": 15,
   "metadata": {
    "collapsed": true
   },
   "outputs": [],
   "source": [
    "colname=['Node','Full_Bandwidth','Node Status','Class']\n"
   ]
  },
  {
   "cell_type": "code",
   "execution_count": 16,
   "metadata": {
    "collapsed": true
   },
   "outputs": [],
   "source": [
    "from sklearn import preprocessing\n",
    "\n",
    "colname=['Node','Full_Bandwidth','Node Status','Class']\n",
    "le={}\n",
    "\n",
    "for x in colname:\n",
    "    le[x]=preprocessing.LabelEncoder()\n",
    "for x in colname:\n",
    "    network_data_rev[x]=le[x].fit_transform(network_data_rev.__getattr__(x))"
   ]
  },
  {
   "cell_type": "code",
   "execution_count": 17,
   "metadata": {},
   "outputs": [
    {
     "data": {
      "text/html": [
       "<div>\n",
       "<style>\n",
       "    .dataframe thead tr:only-child th {\n",
       "        text-align: right;\n",
       "    }\n",
       "\n",
       "    .dataframe thead th {\n",
       "        text-align: left;\n",
       "    }\n",
       "\n",
       "    .dataframe tbody tr th {\n",
       "        vertical-align: top;\n",
       "    }\n",
       "</style>\n",
       "<table border=\"1\" class=\"dataframe\">\n",
       "  <thead>\n",
       "    <tr style=\"text-align: right;\">\n",
       "      <th></th>\n",
       "      <th>Node</th>\n",
       "      <th>Utilised Bandwith Rate</th>\n",
       "      <th>Packet Drop Rate</th>\n",
       "      <th>Full_Bandwidth</th>\n",
       "      <th>Average_Delay_Time_Per_Sec</th>\n",
       "      <th>Percentage_Of_Lost_Pcaket_Rate</th>\n",
       "      <th>Percentage_Of_Lost_Byte_Rate</th>\n",
       "      <th>Packet Received Rate</th>\n",
       "      <th>of Used_Bandwidth</th>\n",
       "      <th>Lost_Bandwidth</th>\n",
       "      <th>Packet_Transmitted</th>\n",
       "      <th>Packet_Received</th>\n",
       "      <th>Packet_lost</th>\n",
       "      <th>Transmitted_Byte</th>\n",
       "      <th>Received_Byte</th>\n",
       "      <th>10-Run-AVG-Drop-Rate</th>\n",
       "      <th>10-Run-AVG-Bandwith-Use</th>\n",
       "      <th>10-Run-Delay</th>\n",
       "      <th>Node Status</th>\n",
       "      <th>Flood Status</th>\n",
       "      <th>Class</th>\n",
       "    </tr>\n",
       "  </thead>\n",
       "  <tbody>\n",
       "    <tr>\n",
       "      <th>0</th>\n",
       "      <td>0</td>\n",
       "      <td>0.822038</td>\n",
       "      <td>0.190381</td>\n",
       "      <td>9</td>\n",
       "      <td>0.004815</td>\n",
       "      <td>19.031487</td>\n",
       "      <td>19.038129</td>\n",
       "      <td>0.809619</td>\n",
       "      <td>822.037500</td>\n",
       "      <td>177.962500</td>\n",
       "      <td>90324</td>\n",
       "      <td>73128</td>\n",
       "      <td>17196</td>\n",
       "      <td>130066560</td>\n",
       "      <td>105304320</td>\n",
       "      <td>0.146594</td>\n",
       "      <td>0.780936</td>\n",
       "      <td>0.001838</td>\n",
       "      <td>1</td>\n",
       "      <td>0.023455</td>\n",
       "      <td>0</td>\n",
       "    </tr>\n",
       "    <tr>\n",
       "      <th>1</th>\n",
       "      <td>0</td>\n",
       "      <td>0.923707</td>\n",
       "      <td>0.090383</td>\n",
       "      <td>8</td>\n",
       "      <td>0.000633</td>\n",
       "      <td>9.035834</td>\n",
       "      <td>9.038339</td>\n",
       "      <td>0.909617</td>\n",
       "      <td>831.336000</td>\n",
       "      <td>68.664000</td>\n",
       "      <td>81276</td>\n",
       "      <td>73930</td>\n",
       "      <td>7346</td>\n",
       "      <td>117037440</td>\n",
       "      <td>106459200</td>\n",
       "      <td>0.058749</td>\n",
       "      <td>0.886758</td>\n",
       "      <td>0.001751</td>\n",
       "      <td>1</td>\n",
       "      <td>0.000000</td>\n",
       "      <td>1</td>\n",
       "    </tr>\n",
       "    <tr>\n",
       "      <th>2</th>\n",
       "      <td>0</td>\n",
       "      <td>0.905217</td>\n",
       "      <td>0.108670</td>\n",
       "      <td>7</td>\n",
       "      <td>0.000497</td>\n",
       "      <td>10.864208</td>\n",
       "      <td>10.866977</td>\n",
       "      <td>0.891330</td>\n",
       "      <td>724.173750</td>\n",
       "      <td>75.826250</td>\n",
       "      <td>72228</td>\n",
       "      <td>64379</td>\n",
       "      <td>7849</td>\n",
       "      <td>104008320</td>\n",
       "      <td>92705760</td>\n",
       "      <td>0.076069</td>\n",
       "      <td>0.869009</td>\n",
       "      <td>0.001767</td>\n",
       "      <td>1</td>\n",
       "      <td>0.000000</td>\n",
       "      <td>1</td>\n",
       "    </tr>\n",
       "    <tr>\n",
       "      <th>3</th>\n",
       "      <td>0</td>\n",
       "      <td>0.912327</td>\n",
       "      <td>0.102633</td>\n",
       "      <td>6</td>\n",
       "      <td>0.000423</td>\n",
       "      <td>10.252196</td>\n",
       "      <td>10.263258</td>\n",
       "      <td>0.897367</td>\n",
       "      <td>638.628775</td>\n",
       "      <td>61.371225</td>\n",
       "      <td>63284</td>\n",
       "      <td>56789</td>\n",
       "      <td>6495</td>\n",
       "      <td>91128960</td>\n",
       "      <td>81776160</td>\n",
       "      <td>0.081080</td>\n",
       "      <td>0.866710</td>\n",
       "      <td>0.001959</td>\n",
       "      <td>1</td>\n",
       "      <td>0.000000</td>\n",
       "      <td>1</td>\n",
       "    </tr>\n",
       "    <tr>\n",
       "      <th>4</th>\n",
       "      <td>0</td>\n",
       "      <td>0.859478</td>\n",
       "      <td>0.153514</td>\n",
       "      <td>4</td>\n",
       "      <td>0.000443</td>\n",
       "      <td>15.344782</td>\n",
       "      <td>15.351421</td>\n",
       "      <td>0.846486</td>\n",
       "      <td>429.738750</td>\n",
       "      <td>70.261250</td>\n",
       "      <td>45188</td>\n",
       "      <td>38251</td>\n",
       "      <td>6937</td>\n",
       "      <td>65070720</td>\n",
       "      <td>55081440</td>\n",
       "      <td>0.108995</td>\n",
       "      <td>0.850883</td>\n",
       "      <td>0.002242</td>\n",
       "      <td>1</td>\n",
       "      <td>0.000000</td>\n",
       "      <td>1</td>\n",
       "    </tr>\n",
       "  </tbody>\n",
       "</table>\n",
       "</div>"
      ],
      "text/plain": [
       "   Node  Utilised Bandwith Rate  Packet Drop Rate  Full_Bandwidth  \\\n",
       "0     0                0.822038          0.190381               9   \n",
       "1     0                0.923707          0.090383               8   \n",
       "2     0                0.905217          0.108670               7   \n",
       "3     0                0.912327          0.102633               6   \n",
       "4     0                0.859478          0.153514               4   \n",
       "\n",
       "   Average_Delay_Time_Per_Sec  Percentage_Of_Lost_Pcaket_Rate  \\\n",
       "0                    0.004815                       19.031487   \n",
       "1                    0.000633                        9.035834   \n",
       "2                    0.000497                       10.864208   \n",
       "3                    0.000423                       10.252196   \n",
       "4                    0.000443                       15.344782   \n",
       "\n",
       "   Percentage_Of_Lost_Byte_Rate  Packet Received Rate  of Used_Bandwidth  \\\n",
       "0                     19.038129              0.809619         822.037500   \n",
       "1                      9.038339              0.909617         831.336000   \n",
       "2                     10.866977              0.891330         724.173750   \n",
       "3                     10.263258              0.897367         638.628775   \n",
       "4                     15.351421              0.846486         429.738750   \n",
       "\n",
       "   Lost_Bandwidth  Packet_Transmitted  Packet_Received  Packet_lost  \\\n",
       "0      177.962500               90324            73128        17196   \n",
       "1       68.664000               81276            73930         7346   \n",
       "2       75.826250               72228            64379         7849   \n",
       "3       61.371225               63284            56789         6495   \n",
       "4       70.261250               45188            38251         6937   \n",
       "\n",
       "   Transmitted_Byte  Received_Byte  10-Run-AVG-Drop-Rate  \\\n",
       "0         130066560      105304320              0.146594   \n",
       "1         117037440      106459200              0.058749   \n",
       "2         104008320       92705760              0.076069   \n",
       "3          91128960       81776160              0.081080   \n",
       "4          65070720       55081440              0.108995   \n",
       "\n",
       "   10-Run-AVG-Bandwith-Use  10-Run-Delay  Node Status  Flood Status  Class  \n",
       "0                 0.780936      0.001838            1      0.023455      0  \n",
       "1                 0.886758      0.001751            1      0.000000      1  \n",
       "2                 0.869009      0.001767            1      0.000000      1  \n",
       "3                 0.866710      0.001959            1      0.000000      1  \n",
       "4                 0.850883      0.002242            1      0.000000      1  "
      ]
     },
     "execution_count": 17,
     "metadata": {},
     "output_type": "execute_result"
    }
   ],
   "source": [
    "network_data_rev.head()\n"
   ]
  },
  {
   "cell_type": "code",
   "execution_count": 21,
   "metadata": {
    "collapsed": true
   },
   "outputs": [],
   "source": [
    "#creating training and testing\n",
    "X=network_data_rev.values[:,:-1]\n",
    "Y=network_data_rev.values[:,-1]"
   ]
  },
  {
   "cell_type": "code",
   "execution_count": 22,
   "metadata": {
    "collapsed": true
   },
   "outputs": [],
   "source": [
    "from sklearn.preprocessing import StandardScaler\n",
    "\n",
    "scaler=StandardScaler()\n",
    "\n",
    "scaler.fit(X)\n",
    "X=scaler.transform(X)\n",
    "\n",
    "Y=Y.astype(int)"
   ]
  },
  {
   "cell_type": "code",
   "execution_count": 23,
   "metadata": {
    "collapsed": true
   },
   "outputs": [],
   "source": [
    "from sklearn.model_selection import train_test_split\n",
    "\n",
    "x_train , x_test  , y_train , y_test = train_test_split(X , Y , \n",
    "                                                        test_size = 0.3 ,\n",
    "                                                        random_state = 10)"
   ]
  },
  {
   "cell_type": "code",
   "execution_count": 24,
   "metadata": {},
   "outputs": [
    {
     "data": {
      "text/plain": [
       "DecisionTreeClassifier(class_weight=None, criterion='gini', max_depth=None,\n",
       "            max_features=None, max_leaf_nodes=None,\n",
       "            min_impurity_decrease=0.0, min_impurity_split=None,\n",
       "            min_samples_leaf=1, min_samples_split=2,\n",
       "            min_weight_fraction_leaf=0.0, presort=False, random_state=None,\n",
       "            splitter='best')"
      ]
     },
     "execution_count": 24,
     "metadata": {},
     "output_type": "execute_result"
    }
   ],
   "source": [
    "#Running the decision tree model\n",
    "#predicting using decision_Tree_Classifier\n",
    "#from sklearn import svm\n",
    "#model_DecisionTree=svm.SVC(kernel='rbf',C=1.0,gamma=0.1)\n",
    "\n",
    "from sklearn.tree import DecisionTreeClassifier\n",
    "\n",
    "model_DecisionTree=DecisionTreeClassifier()\n",
    "model_DecisionTree.fit(x_train,y_train)"
   ]
  },
  {
   "cell_type": "code",
   "execution_count": 28,
   "metadata": {},
   "outputs": [
    {
     "name": "stdout",
     "output_type": "stream",
     "text": [
      "[(2, 2), (3, 3), (3, 3), (1, 1), (2, 2), (0, 0), (3, 3), (2, 2), (0, 0), (0, 0), (0, 0), (1, 1), (2, 2), (0, 0), (0, 0), (0, 0), (2, 2), (2, 2), (0, 0), (0, 0), (0, 0), (0, 0), (0, 0), (0, 0), (0, 0), (0, 0), (0, 0), (3, 3), (3, 3), (3, 3), (3, 3), (1, 1), (0, 0), (0, 0), (2, 2), (1, 1), (0, 0), (3, 3), (3, 3), (1, 1), (3, 3), (0, 0), (0, 0), (0, 0), (0, 0), (0, 0), (2, 2), (3, 3), (0, 0), (3, 3), (0, 0), (2, 2), (3, 3), (0, 0), (0, 0), (3, 3), (3, 3), (2, 2), (0, 0), (0, 0), (1, 1), (0, 0), (1, 1), (1, 1), (3, 3), (3, 3), (3, 3), (0, 0), (3, 3), (3, 3), (0, 0), (1, 1), (1, 1), (0, 0), (2, 2), (0, 0), (0, 0), (3, 3), (3, 3), (0, 0), (0, 0), (0, 0), (0, 0), (3, 3), (0, 0), (1, 1), (2, 2), (3, 3), (0, 0), (3, 3), (3, 3), (0, 0), (0, 0), (0, 0), (1, 1), (2, 2), (0, 0), (0, 0), (0, 0), (0, 0), (1, 1), (0, 0), (3, 3), (0, 0), (3, 3), (0, 0), (0, 0), (0, 0), (0, 0), (0, 0), (0, 0), (0, 0), (3, 3), (0, 0), (3, 3), (3, 3), (0, 0), (3, 3), (3, 3), (0, 0), (0, 0), (0, 0), (3, 3), (0, 0), (0, 0), (3, 3), (3, 3), (1, 1), (3, 3), (1, 1), (0, 0), (2, 2), (3, 3), (3, 3), (1, 1), (3, 3), (0, 0), (0, 0), (0, 0), (3, 3), (2, 2), (3, 3), (0, 0), (2, 2), (0, 0), (3, 3), (0, 0), (2, 2), (3, 3), (2, 2), (3, 3), (0, 0), (1, 1), (1, 1), (0, 0), (3, 3), (0, 0), (0, 0), (3, 3), (0, 0), (3, 3), (0, 0), (0, 0), (2, 2), (0, 0), (3, 3), (0, 0), (0, 0), (1, 1), (0, 0), (2, 2), (1, 1), (2, 2), (3, 3), (0, 0), (3, 3), (2, 2), (2, 2), (1, 1), (3, 3), (0, 0), (3, 3), (0, 0), (1, 1), (1, 1), (0, 0), (0, 0), (0, 0), (1, 1), (1, 1), (3, 3), (0, 0), (0, 0), (3, 3), (3, 3), (3, 3), (0, 0), (0, 0), (0, 0), (0, 0), (0, 0), (0, 0), (2, 2), (2, 2), (0, 0), (0, 0), (1, 1), (3, 3), (3, 3), (0, 0), (1, 1), (3, 3), (1, 1), (0, 0), (0, 0), (0, 0), (0, 0), (2, 2), (3, 3), (0, 0), (1, 1), (0, 0), (0, 0), (2, 2), (2, 2), (0, 0), (0, 0), (0, 0), (3, 3), (0, 0), (2, 2), (0, 0), (1, 1), (0, 0), (3, 3), (0, 0), (2, 2), (2, 2), (3, 3), (3, 3), (3, 3), (0, 0), (2, 2), (2, 2), (1, 1), (3, 3), (1, 1), (0, 0), (1, 1), (3, 3), (2, 2), (0, 0), (0, 0), (0, 0), (1, 1), (0, 0), (3, 3), (1, 1), (0, 0), (0, 0), (0, 0), (3, 3), (3, 3), (3, 3), (3, 3), (3, 3), (0, 0), (0, 0), (3, 3), (2, 2), (0, 0), (1, 1), (0, 0), (3, 3), (2, 2), (3, 3), (3, 3), (1, 1), (0, 0), (3, 3), (1, 1), (1, 1), (0, 0), (3, 3), (0, 0), (0, 0), (0, 0), (3, 3), (2, 2), (3, 3), (3, 3), (3, 3), (0, 0), (3, 3), (0, 0), (3, 3), (0, 0), (1, 1), (2, 2), (1, 1), (3, 3), (2, 2), (1, 1), (0, 0), (3, 3), (0, 0), (3, 3), (1, 1), (1, 1), (2, 2), (0, 0), (0, 0), (3, 3), (3, 3), (0, 0), (1, 1), (0, 0), (0, 0), (0, 0), (0, 0), (0, 0), (0, 0), (3, 3)]\n"
     ]
    }
   ],
   "source": [
    "#fit the model on data and predict the values.\n",
    "y_pred=model_DecisionTree.predict(x_test)\n",
    "\n",
    "print(list(zip(y_test,y_pred)))"
   ]
  },
  {
   "cell_type": "code",
   "execution_count": 29,
   "metadata": {},
   "outputs": [
    {
     "name": "stdout",
     "output_type": "stream",
     "text": [
      "[[146   0   0   0]\n",
      " [  0  45   0   0]\n",
      " [  0   0  40   0]\n",
      " [  0   0   0  92]]\n",
      "1.0\n",
      "             precision    recall  f1-score   support\n",
      "\n",
      "          0       1.00      1.00      1.00       146\n",
      "          1       1.00      1.00      1.00        45\n",
      "          2       1.00      1.00      1.00        40\n",
      "          3       1.00      1.00      1.00        92\n",
      "\n",
      "avg / total       1.00      1.00      1.00       323\n",
      "\n"
     ]
    }
   ],
   "source": [
    "from sklearn.metrics import confusion_matrix , accuracy_score , classification_report\n",
    "print(confusion_matrix(y_test,y_pred))\n",
    "print(accuracy_score(y_test,y_pred))\n",
    "print(classification_report(y_test,y_pred))"
   ]
  },
  {
   "cell_type": "code",
   "execution_count": 30,
   "metadata": {},
   "outputs": [
    {
     "name": "stdout",
     "output_type": "stream",
     "text": [
      "sklearn.cross_validation.KFold(n=752, n_folds=10, shuffle=False, random_state=None)\n",
      "[ 1.          1.          0.98666667  1.          1.          1.          1.\n",
      "  1.          1.          1.        ]\n",
      "0.998666666667\n"
     ]
    },
    {
     "name": "stderr",
     "output_type": "stream",
     "text": [
      "C:\\Users\\Lenovo\\Anaconda3\\lib\\site-packages\\sklearn\\cross_validation.py:41: DeprecationWarning: This module was deprecated in version 0.18 in favor of the model_selection module into which all the refactored classes and functions are moved. Also note that the interface of the new CV iterators are different from that of this module. This module will be removed in 0.20.\n",
      "  \"This module will be removed in 0.20.\", DeprecationWarning)\n"
     ]
    }
   ],
   "source": [
    "from sklearn import cross_validation\n",
    "\n",
    "kfold_cv=cross_validation.KFold(n=len(x_train),n_folds=10)\n",
    "print(kfold_cv)\n",
    "\n",
    "#running the model using scoring as accuracy\n",
    "kfold_cv_result=cross_validation.cross_val_score(estimator=model_DecisionTree,X=x_train,y=y_train,\n",
    "                                                 scoring=\"accuracy\",cv=kfold_cv)\n",
    "print(kfold_cv_result)\n",
    "#finding the mean\n",
    "print(kfold_cv_result.mean())"
   ]
  },
  {
   "cell_type": "code",
   "execution_count": 31,
   "metadata": {
    "collapsed": true
   },
   "outputs": [],
   "source": [
    "###For generating the tree \n",
    "###Click on the link http://www.webgraphviz.com/\n",
    "from sklearn import tree\n",
    "with open(\"model_DecisionTree.txt\",\"w\") as f:\n",
    "    f=tree.export_graphviz(model_DecisionTree,out_file=f)"
   ]
  },
  {
   "cell_type": "code",
   "execution_count": 32,
   "metadata": {
    "collapsed": true
   },
   "outputs": [],
   "source": [
    "#Running extra tree classifier\n",
    "#predicting using bagging classifier\n",
    "    \n",
    "from sklearn.ensemble import ExtraTreesClassifier\n",
    "\n",
    "model=(ExtraTreesClassifier(21))\n",
    "#fit the model on the data and predict the value\n",
    "\n",
    "model=model.fit(x_train,y_train)\n",
    "\n",
    "y_pred=model.predict(x_test)"
   ]
  },
  {
   "cell_type": "code",
   "execution_count": 33,
   "metadata": {},
   "outputs": [
    {
     "name": "stdout",
     "output_type": "stream",
     "text": [
      "[[146   0   0   0]\n",
      " [  0  45   0   0]\n",
      " [  0   0  40   0]\n",
      " [  0   0   0  92]]\n",
      "1.0\n",
      "             precision    recall  f1-score   support\n",
      "\n",
      "          0       1.00      1.00      1.00       146\n",
      "          1       1.00      1.00      1.00        45\n",
      "          2       1.00      1.00      1.00        40\n",
      "          3       1.00      1.00      1.00        92\n",
      "\n",
      "avg / total       1.00      1.00      1.00       323\n",
      "\n"
     ]
    }
   ],
   "source": [
    "from sklearn.metrics import confusion_matrix , accuracy_score , classification_report\n",
    "print(confusion_matrix(y_test,y_pred))\n",
    "print(accuracy_score(y_test,y_pred))\n",
    "print(classification_report(y_test,y_pred))"
   ]
  },
  {
   "cell_type": "code",
   "execution_count": 34,
   "metadata": {
    "collapsed": true
   },
   "outputs": [],
   "source": [
    "##Running RandomForestClassifier\n",
    "from sklearn.ensemble import RandomForestClassifier\n",
    "model_RandomForest=RandomForestClassifier(501)\n",
    "\n",
    "model_RandomForest=model.fit(x_train,y_train)\n",
    "\n",
    "y_pred=model_RandomForest.predict(x_test)"
   ]
  },
  {
   "cell_type": "code",
   "execution_count": 35,
   "metadata": {},
   "outputs": [
    {
     "name": "stdout",
     "output_type": "stream",
     "text": [
      "[[146   0   0   0]\n",
      " [  0  45   0   0]\n",
      " [  0   0  40   0]\n",
      " [  0   0   0  92]]\n",
      "1.0\n",
      "             precision    recall  f1-score   support\n",
      "\n",
      "          0       1.00      1.00      1.00       146\n",
      "          1       1.00      1.00      1.00        45\n",
      "          2       1.00      1.00      1.00        40\n",
      "          3       1.00      1.00      1.00        92\n",
      "\n",
      "avg / total       1.00      1.00      1.00       323\n",
      "\n"
     ]
    }
   ],
   "source": [
    "from sklearn.metrics import confusion_matrix , accuracy_score , classification_report\n",
    "print(confusion_matrix(y_test,y_pred))\n",
    "print(accuracy_score(y_test,y_pred))\n",
    "print(classification_report(y_test,y_pred))"
   ]
  },
  {
   "cell_type": "code",
   "execution_count": 36,
   "metadata": {
    "collapsed": true
   },
   "outputs": [],
   "source": [
    "#running AdaBoostClassifier \n",
    "\n",
    "from sklearn.ensemble import AdaBoostClassifier\n",
    "\n",
    "model_AdaBoost=(AdaBoostClassifier(base_estimator=DecisionTreeClassifier(),n_estimators=100))\n",
    "\n",
    "model_AdaBoost.fit(x_train,y_train)\n",
    "\n",
    "y_pred=model_AdaBoost.predict(x_test)"
   ]
  },
  {
   "cell_type": "code",
   "execution_count": 37,
   "metadata": {},
   "outputs": [
    {
     "name": "stdout",
     "output_type": "stream",
     "text": [
      "[[146   0   0   0]\n",
      " [  0  45   0   0]\n",
      " [  0   0  40   0]\n",
      " [  0   0   0  92]]\n",
      "1.0\n",
      "             precision    recall  f1-score   support\n",
      "\n",
      "          0       1.00      1.00      1.00       146\n",
      "          1       1.00      1.00      1.00        45\n",
      "          2       1.00      1.00      1.00        40\n",
      "          3       1.00      1.00      1.00        92\n",
      "\n",
      "avg / total       1.00      1.00      1.00       323\n",
      "\n"
     ]
    }
   ],
   "source": [
    "from sklearn.metrics import confusion_matrix , accuracy_score , classification_report\n",
    "print(confusion_matrix(y_test,y_pred))\n",
    "print(accuracy_score(y_test,y_pred))\n",
    "print(classification_report(y_test,y_pred))"
   ]
  },
  {
   "cell_type": "code",
   "execution_count": 38,
   "metadata": {
    "collapsed": true
   },
   "outputs": [],
   "source": [
    "#running Gradient Boosting classfier\n",
    "\n",
    "from sklearn.ensemble import GradientBoostingClassifier\n",
    "\n",
    "model_GradientBoosting=GradientBoostingClassifier()\n",
    "\n",
    "model_GradientBoosting.fit(x_train,y_train)\n",
    "\n",
    "y_pred=model_GradientBoosting.predict(x_test)"
   ]
  },
  {
   "cell_type": "code",
   "execution_count": 39,
   "metadata": {},
   "outputs": [
    {
     "name": "stdout",
     "output_type": "stream",
     "text": [
      "[[146   0   0   0]\n",
      " [  0  45   0   0]\n",
      " [  0   0  40   0]\n",
      " [  0   0   0  92]]\n",
      "1.0\n",
      "             precision    recall  f1-score   support\n",
      "\n",
      "          0       1.00      1.00      1.00       146\n",
      "          1       1.00      1.00      1.00        45\n",
      "          2       1.00      1.00      1.00        40\n",
      "          3       1.00      1.00      1.00        92\n",
      "\n",
      "avg / total       1.00      1.00      1.00       323\n",
      "\n"
     ]
    }
   ],
   "source": [
    "from sklearn.metrics import confusion_matrix , accuracy_score , classification_report\n",
    "print(confusion_matrix(y_test,y_pred))\n",
    "print(accuracy_score(y_test,y_pred))\n",
    "print(classification_report(y_test,y_pred))"
   ]
  },
  {
   "cell_type": "code",
   "execution_count": 40,
   "metadata": {
    "collapsed": true
   },
   "outputs": [],
   "source": [
    "#voting classfier\n",
    "from sklearn.linear_model import LogisticRegression\n",
    "from sklearn.tree import DecisionTreeClassifier\n",
    "from sklearn.svm import SVC\n",
    "from sklearn.ensemble import VotingClassifier"
   ]
  },
  {
   "cell_type": "code",
   "execution_count": 41,
   "metadata": {
    "collapsed": true
   },
   "outputs": [],
   "source": [
    "#creating submodel\n",
    "\n",
    "estimators=[]\n",
    "model1=LogisticRegression()\n",
    "estimators.append(('log',model1))\n",
    "model2=DecisionTreeClassifier()\n",
    "estimators.append(('cart',model2))\n",
    "model3=SVC()\n",
    "estimators.append(('svm',model3))"
   ]
  },
  {
   "cell_type": "code",
   "execution_count": 42,
   "metadata": {
    "collapsed": true
   },
   "outputs": [],
   "source": [
    "#creating the ensembel model\n",
    "ensemble=VotingClassifier(estimators)\n",
    "ensemble.fit(x_train,y_train)\n",
    "\n",
    "y_pred=ensemble.predict(x_test)"
   ]
  },
  {
   "cell_type": "code",
   "execution_count": 43,
   "metadata": {},
   "outputs": [
    {
     "name": "stdout",
     "output_type": "stream",
     "text": [
      "[[139   3   0   4]\n",
      " [  0  45   0   0]\n",
      " [  0   0  40   0]\n",
      " [ 25   0   0  67]]\n",
      "0.90092879257\n",
      "             precision    recall  f1-score   support\n",
      "\n",
      "          0       0.85      0.95      0.90       146\n",
      "          1       0.94      1.00      0.97        45\n",
      "          2       1.00      1.00      1.00        40\n",
      "          3       0.94      0.73      0.82        92\n",
      "\n",
      "avg / total       0.91      0.90      0.90       323\n",
      "\n"
     ]
    }
   ],
   "source": [
    "from sklearn.metrics import confusion_matrix , accuracy_score , classification_report\n",
    "print(confusion_matrix(y_test,y_pred))\n",
    "print(accuracy_score(y_test,y_pred))\n",
    "print(classification_report(y_test,y_pred))"
   ]
  },
  {
   "cell_type": "code",
   "execution_count": null,
   "metadata": {
    "collapsed": true
   },
   "outputs": [],
   "source": []
  }
 ],
 "metadata": {
  "kernelspec": {
   "display_name": "Python 3",
   "language": "python",
   "name": "python3"
  },
  "language_info": {
   "codemirror_mode": {
    "name": "ipython",
    "version": 3
   },
   "file_extension": ".py",
   "mimetype": "text/x-python",
   "name": "python",
   "nbconvert_exporter": "python",
   "pygments_lexer": "ipython3",
   "version": "3.6.2"
  }
 },
 "nbformat": 4,
 "nbformat_minor": 2
}
